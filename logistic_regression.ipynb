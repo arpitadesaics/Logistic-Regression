{
 "cells": [
  {
   "cell_type": "code",
   "execution_count": 1,
   "id": "1ddba354",
   "metadata": {},
   "outputs": [],
   "source": [
    "import pandas as pd\n",
    "import numpy as np\n",
    "import seaborn as sns\n",
    "from matplotlib import pyplot as plt \n",
    "from sklearn.linear_model import LogisticRegression\n",
    "from sklearn import preprocessing\n",
    "from sklearn.model_selection import train_test_split\n",
    "from sklearn.metrics import classification_report, confusion_matrix,accuracy_score\n"
   ]
  },
  {
   "cell_type": "code",
   "execution_count": 2,
   "id": "33843ce1",
   "metadata": {},
   "outputs": [
    {
     "data": {
      "text/html": [
       "<div>\n",
       "<style scoped>\n",
       "    .dataframe tbody tr th:only-of-type {\n",
       "        vertical-align: middle;\n",
       "    }\n",
       "\n",
       "    .dataframe tbody tr th {\n",
       "        vertical-align: top;\n",
       "    }\n",
       "\n",
       "    .dataframe thead th {\n",
       "        text-align: right;\n",
       "    }\n",
       "</style>\n",
       "<table border=\"1\" class=\"dataframe\">\n",
       "  <thead>\n",
       "    <tr style=\"text-align: right;\">\n",
       "      <th></th>\n",
       "      <th>Sex</th>\n",
       "      <th>Age</th>\n",
       "      <th>Time_at_address</th>\n",
       "      <th>Res_status</th>\n",
       "      <th>Telephone</th>\n",
       "      <th>Occupation</th>\n",
       "      <th>Job_status</th>\n",
       "      <th>Time_employed</th>\n",
       "      <th>Time_bank</th>\n",
       "      <th>Liab_ref</th>\n",
       "      <th>Acc_ref</th>\n",
       "      <th>Home_Expn</th>\n",
       "      <th>Balance</th>\n",
       "      <th>Decision</th>\n",
       "    </tr>\n",
       "  </thead>\n",
       "  <tbody>\n",
       "    <tr>\n",
       "      <th>0</th>\n",
       "      <td>M</td>\n",
       "      <td>50.750000</td>\n",
       "      <td>0.585</td>\n",
       "      <td>owner</td>\n",
       "      <td>given</td>\n",
       "      <td>unemploye</td>\n",
       "      <td>unemploye</td>\n",
       "      <td>0</td>\n",
       "      <td>0</td>\n",
       "      <td>f</td>\n",
       "      <td>given</td>\n",
       "      <td>145</td>\n",
       "      <td>0</td>\n",
       "      <td>reject</td>\n",
       "    </tr>\n",
       "    <tr>\n",
       "      <th>1</th>\n",
       "      <td>M</td>\n",
       "      <td>19.670000</td>\n",
       "      <td>10.000</td>\n",
       "      <td>rent</td>\n",
       "      <td>not_given</td>\n",
       "      <td>labourer</td>\n",
       "      <td>governmen</td>\n",
       "      <td>0</td>\n",
       "      <td>0</td>\n",
       "      <td>t</td>\n",
       "      <td>given</td>\n",
       "      <td>140</td>\n",
       "      <td>0</td>\n",
       "      <td>reject</td>\n",
       "    </tr>\n",
       "    <tr>\n",
       "      <th>2</th>\n",
       "      <td>F</td>\n",
       "      <td>52.830002</td>\n",
       "      <td>15.000</td>\n",
       "      <td>owner</td>\n",
       "      <td>given</td>\n",
       "      <td>creative_</td>\n",
       "      <td>private_s</td>\n",
       "      <td>5</td>\n",
       "      <td>14</td>\n",
       "      <td>f</td>\n",
       "      <td>given</td>\n",
       "      <td>0</td>\n",
       "      <td>2200</td>\n",
       "      <td>accept</td>\n",
       "    </tr>\n",
       "    <tr>\n",
       "      <th>3</th>\n",
       "      <td>M</td>\n",
       "      <td>22.670000</td>\n",
       "      <td>2.540</td>\n",
       "      <td>rent</td>\n",
       "      <td>not_given</td>\n",
       "      <td>creative_</td>\n",
       "      <td>governmen</td>\n",
       "      <td>2</td>\n",
       "      <td>0</td>\n",
       "      <td>f</td>\n",
       "      <td>given</td>\n",
       "      <td>0</td>\n",
       "      <td>0</td>\n",
       "      <td>accept</td>\n",
       "    </tr>\n",
       "    <tr>\n",
       "      <th>4</th>\n",
       "      <td>M</td>\n",
       "      <td>29.250000</td>\n",
       "      <td>13.000</td>\n",
       "      <td>owner</td>\n",
       "      <td>given</td>\n",
       "      <td>driver</td>\n",
       "      <td>governmen</td>\n",
       "      <td>0</td>\n",
       "      <td>0</td>\n",
       "      <td>f</td>\n",
       "      <td>given</td>\n",
       "      <td>228</td>\n",
       "      <td>0</td>\n",
       "      <td>reject</td>\n",
       "    </tr>\n",
       "  </tbody>\n",
       "</table>\n",
       "</div>"
      ],
      "text/plain": [
       "  Sex        Age  Time_at_address Res_status  Telephone Occupation Job_status  \\\n",
       "0   M  50.750000            0.585      owner      given  unemploye  unemploye   \n",
       "1   M  19.670000           10.000       rent  not_given   labourer  governmen   \n",
       "2   F  52.830002           15.000      owner      given  creative_  private_s   \n",
       "3   M  22.670000            2.540       rent  not_given  creative_  governmen   \n",
       "4   M  29.250000           13.000      owner      given     driver  governmen   \n",
       "\n",
       "   Time_employed  Time_bank Liab_ref Acc_ref  Home_Expn  Balance Decision  \n",
       "0              0          0        f   given        145        0   reject  \n",
       "1              0          0        t   given        140        0   reject  \n",
       "2              5         14        f   given          0     2200   accept  \n",
       "3              2          0        f   given          0        0   accept  \n",
       "4              0          0        f   given        228        0   reject  "
      ]
     },
     "execution_count": 2,
     "metadata": {},
     "output_type": "execute_result"
    }
   ],
   "source": [
    "#reading the data\n",
    "df = pd.read_excel(r\"C:\\Users\\DELL\\Desktop\\Data Science\\Files\\loan.xlsx\")\n",
    "df.head()"
   ]
  },
  {
   "cell_type": "code",
   "execution_count": 3,
   "id": "6dd6d9f3",
   "metadata": {},
   "outputs": [],
   "source": [
    "#assigning x and y\n",
    "x = df.iloc[:,df.columns != 'Decision']\n",
    "y =df['Decision']"
   ]
  },
  {
   "cell_type": "code",
   "execution_count": 4,
   "id": "58d49425",
   "metadata": {},
   "outputs": [
    {
     "data": {
      "text/plain": [
       "(429, 13)"
      ]
     },
     "execution_count": 4,
     "metadata": {},
     "output_type": "execute_result"
    }
   ],
   "source": [
    "x.shape"
   ]
  },
  {
   "cell_type": "code",
   "execution_count": 5,
   "id": "c59395bc",
   "metadata": {},
   "outputs": [
    {
     "data": {
      "text/html": [
       "<div>\n",
       "<style scoped>\n",
       "    .dataframe tbody tr th:only-of-type {\n",
       "        vertical-align: middle;\n",
       "    }\n",
       "\n",
       "    .dataframe tbody tr th {\n",
       "        vertical-align: top;\n",
       "    }\n",
       "\n",
       "    .dataframe thead th {\n",
       "        text-align: right;\n",
       "    }\n",
       "</style>\n",
       "<table border=\"1\" class=\"dataframe\">\n",
       "  <thead>\n",
       "    <tr style=\"text-align: right;\">\n",
       "      <th></th>\n",
       "      <th>Age</th>\n",
       "      <th>Time_at_address</th>\n",
       "      <th>Time_employed</th>\n",
       "      <th>Time_bank</th>\n",
       "      <th>Home_Expn</th>\n",
       "      <th>Balance</th>\n",
       "    </tr>\n",
       "  </thead>\n",
       "  <tbody>\n",
       "    <tr>\n",
       "      <th>0</th>\n",
       "      <td>50.750000</td>\n",
       "      <td>0.585</td>\n",
       "      <td>0</td>\n",
       "      <td>0</td>\n",
       "      <td>145</td>\n",
       "      <td>0</td>\n",
       "    </tr>\n",
       "    <tr>\n",
       "      <th>1</th>\n",
       "      <td>19.670000</td>\n",
       "      <td>10.000</td>\n",
       "      <td>0</td>\n",
       "      <td>0</td>\n",
       "      <td>140</td>\n",
       "      <td>0</td>\n",
       "    </tr>\n",
       "    <tr>\n",
       "      <th>2</th>\n",
       "      <td>52.830002</td>\n",
       "      <td>15.000</td>\n",
       "      <td>5</td>\n",
       "      <td>14</td>\n",
       "      <td>0</td>\n",
       "      <td>2200</td>\n",
       "    </tr>\n",
       "    <tr>\n",
       "      <th>3</th>\n",
       "      <td>22.670000</td>\n",
       "      <td>2.540</td>\n",
       "      <td>2</td>\n",
       "      <td>0</td>\n",
       "      <td>0</td>\n",
       "      <td>0</td>\n",
       "    </tr>\n",
       "    <tr>\n",
       "      <th>4</th>\n",
       "      <td>29.250000</td>\n",
       "      <td>13.000</td>\n",
       "      <td>0</td>\n",
       "      <td>0</td>\n",
       "      <td>228</td>\n",
       "      <td>0</td>\n",
       "    </tr>\n",
       "    <tr>\n",
       "      <th>...</th>\n",
       "      <td>...</td>\n",
       "      <td>...</td>\n",
       "      <td>...</td>\n",
       "      <td>...</td>\n",
       "      <td>...</td>\n",
       "      <td>...</td>\n",
       "    </tr>\n",
       "    <tr>\n",
       "      <th>424</th>\n",
       "      <td>34.169998</td>\n",
       "      <td>2.750</td>\n",
       "      <td>2</td>\n",
       "      <td>0</td>\n",
       "      <td>232</td>\n",
       "      <td>200</td>\n",
       "    </tr>\n",
       "    <tr>\n",
       "      <th>425</th>\n",
       "      <td>22.250000</td>\n",
       "      <td>1.250</td>\n",
       "      <td>3</td>\n",
       "      <td>0</td>\n",
       "      <td>280</td>\n",
       "      <td>0</td>\n",
       "    </tr>\n",
       "    <tr>\n",
       "      <th>426</th>\n",
       "      <td>23.330000</td>\n",
       "      <td>1.500</td>\n",
       "      <td>1</td>\n",
       "      <td>0</td>\n",
       "      <td>422</td>\n",
       "      <td>200</td>\n",
       "    </tr>\n",
       "    <tr>\n",
       "      <th>427</th>\n",
       "      <td>21.000000</td>\n",
       "      <td>4.790</td>\n",
       "      <td>2</td>\n",
       "      <td>1</td>\n",
       "      <td>80</td>\n",
       "      <td>300</td>\n",
       "    </tr>\n",
       "    <tr>\n",
       "      <th>428</th>\n",
       "      <td>27.750000</td>\n",
       "      <td>1.290</td>\n",
       "      <td>0</td>\n",
       "      <td>0</td>\n",
       "      <td>140</td>\n",
       "      <td>0</td>\n",
       "    </tr>\n",
       "  </tbody>\n",
       "</table>\n",
       "<p>429 rows × 6 columns</p>\n",
       "</div>"
      ],
      "text/plain": [
       "           Age  Time_at_address  Time_employed  Time_bank  Home_Expn  Balance\n",
       "0    50.750000            0.585              0          0        145        0\n",
       "1    19.670000           10.000              0          0        140        0\n",
       "2    52.830002           15.000              5         14          0     2200\n",
       "3    22.670000            2.540              2          0          0        0\n",
       "4    29.250000           13.000              0          0        228        0\n",
       "..         ...              ...            ...        ...        ...      ...\n",
       "424  34.169998            2.750              2          0        232      200\n",
       "425  22.250000            1.250              3          0        280        0\n",
       "426  23.330000            1.500              1          0        422      200\n",
       "427  21.000000            4.790              2          1         80      300\n",
       "428  27.750000            1.290              0          0        140        0\n",
       "\n",
       "[429 rows x 6 columns]"
      ]
     },
     "execution_count": 5,
     "metadata": {},
     "output_type": "execute_result"
    }
   ],
   "source": [
    "#numerical columns\n",
    "inputs_numerical = x.select_dtypes(include='number')\n",
    "inputs_numerical"
   ]
  },
  {
   "cell_type": "code",
   "execution_count": 6,
   "id": "482de3cf",
   "metadata": {},
   "outputs": [
    {
     "data": {
      "text/plain": [
       "Index(['Sex', 'Res_status', 'Telephone', 'Occupation', 'Job_status',\n",
       "       'Liab_ref', 'Acc_ref'],\n",
       "      dtype='object')"
      ]
     },
     "execution_count": 6,
     "metadata": {},
     "output_type": "execute_result"
    }
   ],
   "source": [
    "#categorical columns\n",
    "inputs_categorical = x.select_dtypes(include='object')\n",
    "inputs_categorical.columns"
   ]
  },
  {
   "cell_type": "code",
   "execution_count": 7,
   "id": "2f83ddcf",
   "metadata": {},
   "outputs": [],
   "source": [
    "#processing the dataset\n",
    "le = preprocessing.LabelEncoder()"
   ]
  },
  {
   "cell_type": "code",
   "execution_count": 8,
   "id": "a83c4096",
   "metadata": {},
   "outputs": [
    {
     "data": {
      "text/html": [
       "<div>\n",
       "<style scoped>\n",
       "    .dataframe tbody tr th:only-of-type {\n",
       "        vertical-align: middle;\n",
       "    }\n",
       "\n",
       "    .dataframe tbody tr th {\n",
       "        vertical-align: top;\n",
       "    }\n",
       "\n",
       "    .dataframe thead th {\n",
       "        text-align: right;\n",
       "    }\n",
       "</style>\n",
       "<table border=\"1\" class=\"dataframe\">\n",
       "  <thead>\n",
       "    <tr style=\"text-align: right;\">\n",
       "      <th></th>\n",
       "      <th>Sex</th>\n",
       "      <th>Res_status</th>\n",
       "      <th>Telephone</th>\n",
       "      <th>Occupation</th>\n",
       "      <th>Job_status</th>\n",
       "      <th>Liab_ref</th>\n",
       "      <th>Acc_ref</th>\n",
       "    </tr>\n",
       "  </thead>\n",
       "  <tbody>\n",
       "    <tr>\n",
       "      <th>0</th>\n",
       "      <td>1</td>\n",
       "      <td>0</td>\n",
       "      <td>0</td>\n",
       "      <td>11</td>\n",
       "      <td>6</td>\n",
       "      <td>0</td>\n",
       "      <td>0</td>\n",
       "    </tr>\n",
       "    <tr>\n",
       "      <th>1</th>\n",
       "      <td>1</td>\n",
       "      <td>1</td>\n",
       "      <td>1</td>\n",
       "      <td>4</td>\n",
       "      <td>0</td>\n",
       "      <td>1</td>\n",
       "      <td>0</td>\n",
       "    </tr>\n",
       "    <tr>\n",
       "      <th>2</th>\n",
       "      <td>0</td>\n",
       "      <td>0</td>\n",
       "      <td>0</td>\n",
       "      <td>0</td>\n",
       "      <td>2</td>\n",
       "      <td>0</td>\n",
       "      <td>0</td>\n",
       "    </tr>\n",
       "    <tr>\n",
       "      <th>3</th>\n",
       "      <td>1</td>\n",
       "      <td>1</td>\n",
       "      <td>1</td>\n",
       "      <td>0</td>\n",
       "      <td>0</td>\n",
       "      <td>0</td>\n",
       "      <td>0</td>\n",
       "    </tr>\n",
       "    <tr>\n",
       "      <th>4</th>\n",
       "      <td>1</td>\n",
       "      <td>0</td>\n",
       "      <td>0</td>\n",
       "      <td>1</td>\n",
       "      <td>0</td>\n",
       "      <td>0</td>\n",
       "      <td>0</td>\n",
       "    </tr>\n",
       "  </tbody>\n",
       "</table>\n",
       "</div>"
      ],
      "text/plain": [
       "   Sex  Res_status  Telephone  Occupation  Job_status  Liab_ref  Acc_ref\n",
       "0    1           0          0          11           6         0        0\n",
       "1    1           1          1           4           0         1        0\n",
       "2    0           0          0           0           2         0        0\n",
       "3    1           1          1           0           0         0        0\n",
       "4    1           0          0           1           0         0        0"
      ]
     },
     "execution_count": 8,
     "metadata": {},
     "output_type": "execute_result"
    }
   ],
   "source": [
    "X = inputs_categorical.apply(le.fit_transform)\n",
    "X.head()"
   ]
  },
  {
   "cell_type": "code",
   "execution_count": 9,
   "id": "40705817",
   "metadata": {},
   "outputs": [
    {
     "data": {
      "text/html": [
       "<div>\n",
       "<style scoped>\n",
       "    .dataframe tbody tr th:only-of-type {\n",
       "        vertical-align: middle;\n",
       "    }\n",
       "\n",
       "    .dataframe tbody tr th {\n",
       "        vertical-align: top;\n",
       "    }\n",
       "\n",
       "    .dataframe thead th {\n",
       "        text-align: right;\n",
       "    }\n",
       "</style>\n",
       "<table border=\"1\" class=\"dataframe\">\n",
       "  <thead>\n",
       "    <tr style=\"text-align: right;\">\n",
       "      <th></th>\n",
       "      <th>Sex</th>\n",
       "      <th>Res_status</th>\n",
       "      <th>Telephone</th>\n",
       "      <th>Occupation</th>\n",
       "      <th>Job_status</th>\n",
       "      <th>Liab_ref</th>\n",
       "      <th>Acc_ref</th>\n",
       "      <th>Age</th>\n",
       "      <th>Time_at_address</th>\n",
       "      <th>Time_employed</th>\n",
       "      <th>Time_bank</th>\n",
       "      <th>Home_Expn</th>\n",
       "      <th>Balance</th>\n",
       "    </tr>\n",
       "  </thead>\n",
       "  <tbody>\n",
       "    <tr>\n",
       "      <th>0</th>\n",
       "      <td>1</td>\n",
       "      <td>0</td>\n",
       "      <td>0</td>\n",
       "      <td>11</td>\n",
       "      <td>6</td>\n",
       "      <td>0</td>\n",
       "      <td>0</td>\n",
       "      <td>50.750000</td>\n",
       "      <td>0.585</td>\n",
       "      <td>0</td>\n",
       "      <td>0</td>\n",
       "      <td>145</td>\n",
       "      <td>0</td>\n",
       "    </tr>\n",
       "    <tr>\n",
       "      <th>1</th>\n",
       "      <td>1</td>\n",
       "      <td>1</td>\n",
       "      <td>1</td>\n",
       "      <td>4</td>\n",
       "      <td>0</td>\n",
       "      <td>1</td>\n",
       "      <td>0</td>\n",
       "      <td>19.670000</td>\n",
       "      <td>10.000</td>\n",
       "      <td>0</td>\n",
       "      <td>0</td>\n",
       "      <td>140</td>\n",
       "      <td>0</td>\n",
       "    </tr>\n",
       "    <tr>\n",
       "      <th>2</th>\n",
       "      <td>0</td>\n",
       "      <td>0</td>\n",
       "      <td>0</td>\n",
       "      <td>0</td>\n",
       "      <td>2</td>\n",
       "      <td>0</td>\n",
       "      <td>0</td>\n",
       "      <td>52.830002</td>\n",
       "      <td>15.000</td>\n",
       "      <td>5</td>\n",
       "      <td>14</td>\n",
       "      <td>0</td>\n",
       "      <td>2200</td>\n",
       "    </tr>\n",
       "    <tr>\n",
       "      <th>3</th>\n",
       "      <td>1</td>\n",
       "      <td>1</td>\n",
       "      <td>1</td>\n",
       "      <td>0</td>\n",
       "      <td>0</td>\n",
       "      <td>0</td>\n",
       "      <td>0</td>\n",
       "      <td>22.670000</td>\n",
       "      <td>2.540</td>\n",
       "      <td>2</td>\n",
       "      <td>0</td>\n",
       "      <td>0</td>\n",
       "      <td>0</td>\n",
       "    </tr>\n",
       "    <tr>\n",
       "      <th>4</th>\n",
       "      <td>1</td>\n",
       "      <td>0</td>\n",
       "      <td>0</td>\n",
       "      <td>1</td>\n",
       "      <td>0</td>\n",
       "      <td>0</td>\n",
       "      <td>0</td>\n",
       "      <td>29.250000</td>\n",
       "      <td>13.000</td>\n",
       "      <td>0</td>\n",
       "      <td>0</td>\n",
       "      <td>228</td>\n",
       "      <td>0</td>\n",
       "    </tr>\n",
       "  </tbody>\n",
       "</table>\n",
       "</div>"
      ],
      "text/plain": [
       "   Sex  Res_status  Telephone  Occupation  Job_status  Liab_ref  Acc_ref  \\\n",
       "0    1           0          0          11           6         0        0   \n",
       "1    1           1          1           4           0         1        0   \n",
       "2    0           0          0           0           2         0        0   \n",
       "3    1           1          1           0           0         0        0   \n",
       "4    1           0          0           1           0         0        0   \n",
       "\n",
       "         Age  Time_at_address  Time_employed  Time_bank  Home_Expn  Balance  \n",
       "0  50.750000            0.585              0          0        145        0  \n",
       "1  19.670000           10.000              0          0        140        0  \n",
       "2  52.830002           15.000              5         14          0     2200  \n",
       "3  22.670000            2.540              2          0          0        0  \n",
       "4  29.250000           13.000              0          0        228        0  "
      ]
     },
     "execution_count": 9,
     "metadata": {},
     "output_type": "execute_result"
    }
   ],
   "source": [
    "#concatenating numerical dataset & label encoded categorical dataset\n",
    "new_inputs = pd.concat(objs= [X,inputs_numerical],axis='columns')\n",
    "new_inputs.head()"
   ]
  },
  {
   "cell_type": "code",
   "execution_count": 28,
   "id": "d97380c8",
   "metadata": {},
   "outputs": [
    {
     "data": {
      "text/plain": [
       "(429, 29)"
      ]
     },
     "execution_count": 28,
     "metadata": {},
     "output_type": "execute_result"
    }
   ],
   "source": [
    "#OneHotEncoder\n",
    "enc = preprocessing.OneHotEncoder()\n",
    "\n",
    "#fit\n",
    "enc.fit(inputs_categorical)\n",
    "\n",
    "# transform\n",
    "onehotlabel = enc.transform(inputs_categorical).toarray()\n",
    "onehotlabel.shape"
   ]
  },
  {
   "cell_type": "code",
   "execution_count": 29,
   "id": "44cc0c3d",
   "metadata": {},
   "outputs": [
    {
     "data": {
      "text/plain": [
       "array([[0., 1., 1., ..., 0., 1., 0.],\n",
       "       [0., 1., 0., ..., 1., 1., 0.],\n",
       "       [1., 0., 1., ..., 0., 1., 0.],\n",
       "       ...,\n",
       "       [0., 1., 1., ..., 0., 1., 0.],\n",
       "       [0., 1., 0., ..., 1., 1., 0.],\n",
       "       [0., 1., 1., ..., 1., 0., 1.]])"
      ]
     },
     "execution_count": 29,
     "metadata": {},
     "output_type": "execute_result"
    }
   ],
   "source": [
    "onehotlabel"
   ]
  },
  {
   "cell_type": "code",
   "execution_count": 12,
   "id": "37f25dca",
   "metadata": {},
   "outputs": [
    {
     "data": {
      "text/plain": [
       "Sex                0\n",
       "Age                0\n",
       "Time_at_address    0\n",
       "Res_status         0\n",
       "Telephone          0\n",
       "Occupation         0\n",
       "Job_status         0\n",
       "Time_employed      0\n",
       "Time_bank          0\n",
       "Liab_ref           0\n",
       "Acc_ref            0\n",
       "Home_Expn          0\n",
       "Balance            0\n",
       "Decision           0\n",
       "dtype: int64"
      ]
     },
     "execution_count": 12,
     "metadata": {},
     "output_type": "execute_result"
    }
   ],
   "source": [
    "#checking for missing value\n",
    "df.isnull().sum()"
   ]
  },
  {
   "cell_type": "code",
   "execution_count": 13,
   "id": "f7bfd3bf",
   "metadata": {},
   "outputs": [
    {
     "data": {
      "text/plain": [
       "(429, 14)"
      ]
     },
     "execution_count": 13,
     "metadata": {},
     "output_type": "execute_result"
    }
   ],
   "source": [
    "df.shape"
   ]
  },
  {
   "cell_type": "code",
   "execution_count": 14,
   "id": "ae4aeec3",
   "metadata": {},
   "outputs": [
    {
     "data": {
      "text/plain": [
       "(429, 13)"
      ]
     },
     "execution_count": 14,
     "metadata": {},
     "output_type": "execute_result"
    }
   ],
   "source": [
    "df = df.drop(['Sex'],axis=1)\n",
    "df.shape"
   ]
  },
  {
   "cell_type": "code",
   "execution_count": 15,
   "id": "abd86cb1",
   "metadata": {},
   "outputs": [
    {
     "data": {
      "text/plain": [
       "(429, 12)"
      ]
     },
     "execution_count": 15,
     "metadata": {},
     "output_type": "execute_result"
    }
   ],
   "source": [
    "df=df.drop(['Telephone'],axis=1)\n",
    "df.shape"
   ]
  },
  {
   "cell_type": "code",
   "execution_count": 16,
   "id": "4226d0e7",
   "metadata": {},
   "outputs": [],
   "source": [
    "X_train, X_test, Y_train, Y_test = train_test_split(onehotlabels,y, random_state=0)"
   ]
  },
  {
   "cell_type": "code",
   "execution_count": 17,
   "id": "d47d2be8",
   "metadata": {},
   "outputs": [],
   "source": [
    "model = LogisticRegression(solver='lbfgs',random_state=0)"
   ]
  },
  {
   "cell_type": "code",
   "execution_count": 18,
   "id": "dd36aec6",
   "metadata": {},
   "outputs": [
    {
     "data": {
      "text/html": [
       "<style>#sk-container-id-1 {color: black;background-color: white;}#sk-container-id-1 pre{padding: 0;}#sk-container-id-1 div.sk-toggleable {background-color: white;}#sk-container-id-1 label.sk-toggleable__label {cursor: pointer;display: block;width: 100%;margin-bottom: 0;padding: 0.3em;box-sizing: border-box;text-align: center;}#sk-container-id-1 label.sk-toggleable__label-arrow:before {content: \"▸\";float: left;margin-right: 0.25em;color: #696969;}#sk-container-id-1 label.sk-toggleable__label-arrow:hover:before {color: black;}#sk-container-id-1 div.sk-estimator:hover label.sk-toggleable__label-arrow:before {color: black;}#sk-container-id-1 div.sk-toggleable__content {max-height: 0;max-width: 0;overflow: hidden;text-align: left;background-color: #f0f8ff;}#sk-container-id-1 div.sk-toggleable__content pre {margin: 0.2em;color: black;border-radius: 0.25em;background-color: #f0f8ff;}#sk-container-id-1 input.sk-toggleable__control:checked~div.sk-toggleable__content {max-height: 200px;max-width: 100%;overflow: auto;}#sk-container-id-1 input.sk-toggleable__control:checked~label.sk-toggleable__label-arrow:before {content: \"▾\";}#sk-container-id-1 div.sk-estimator input.sk-toggleable__control:checked~label.sk-toggleable__label {background-color: #d4ebff;}#sk-container-id-1 div.sk-label input.sk-toggleable__control:checked~label.sk-toggleable__label {background-color: #d4ebff;}#sk-container-id-1 input.sk-hidden--visually {border: 0;clip: rect(1px 1px 1px 1px);clip: rect(1px, 1px, 1px, 1px);height: 1px;margin: -1px;overflow: hidden;padding: 0;position: absolute;width: 1px;}#sk-container-id-1 div.sk-estimator {font-family: monospace;background-color: #f0f8ff;border: 1px dotted black;border-radius: 0.25em;box-sizing: border-box;margin-bottom: 0.5em;}#sk-container-id-1 div.sk-estimator:hover {background-color: #d4ebff;}#sk-container-id-1 div.sk-parallel-item::after {content: \"\";width: 100%;border-bottom: 1px solid gray;flex-grow: 1;}#sk-container-id-1 div.sk-label:hover label.sk-toggleable__label {background-color: #d4ebff;}#sk-container-id-1 div.sk-serial::before {content: \"\";position: absolute;border-left: 1px solid gray;box-sizing: border-box;top: 0;bottom: 0;left: 50%;z-index: 0;}#sk-container-id-1 div.sk-serial {display: flex;flex-direction: column;align-items: center;background-color: white;padding-right: 0.2em;padding-left: 0.2em;position: relative;}#sk-container-id-1 div.sk-item {position: relative;z-index: 1;}#sk-container-id-1 div.sk-parallel {display: flex;align-items: stretch;justify-content: center;background-color: white;position: relative;}#sk-container-id-1 div.sk-item::before, #sk-container-id-1 div.sk-parallel-item::before {content: \"\";position: absolute;border-left: 1px solid gray;box-sizing: border-box;top: 0;bottom: 0;left: 50%;z-index: -1;}#sk-container-id-1 div.sk-parallel-item {display: flex;flex-direction: column;z-index: 1;position: relative;background-color: white;}#sk-container-id-1 div.sk-parallel-item:first-child::after {align-self: flex-end;width: 50%;}#sk-container-id-1 div.sk-parallel-item:last-child::after {align-self: flex-start;width: 50%;}#sk-container-id-1 div.sk-parallel-item:only-child::after {width: 0;}#sk-container-id-1 div.sk-dashed-wrapped {border: 1px dashed gray;margin: 0 0.4em 0.5em 0.4em;box-sizing: border-box;padding-bottom: 0.4em;background-color: white;}#sk-container-id-1 div.sk-label label {font-family: monospace;font-weight: bold;display: inline-block;line-height: 1.2em;}#sk-container-id-1 div.sk-label-container {text-align: center;}#sk-container-id-1 div.sk-container {/* jupyter's `normalize.less` sets `[hidden] { display: none; }` but bootstrap.min.css set `[hidden] { display: none !important; }` so we also need the `!important` here to be able to override the default hidden behavior on the sphinx rendered scikit-learn.org. See: https://github.com/scikit-learn/scikit-learn/issues/21755 */display: inline-block !important;position: relative;}#sk-container-id-1 div.sk-text-repr-fallback {display: none;}</style><div id=\"sk-container-id-1\" class=\"sk-top-container\"><div class=\"sk-text-repr-fallback\"><pre>LogisticRegression(random_state=0)</pre><b>In a Jupyter environment, please rerun this cell to show the HTML representation or trust the notebook. <br />On GitHub, the HTML representation is unable to render, please try loading this page with nbviewer.org.</b></div><div class=\"sk-container\" hidden><div class=\"sk-item\"><div class=\"sk-estimator sk-toggleable\"><input class=\"sk-toggleable__control sk-hidden--visually\" id=\"sk-estimator-id-1\" type=\"checkbox\" checked><label for=\"sk-estimator-id-1\" class=\"sk-toggleable__label sk-toggleable__label-arrow\">LogisticRegression</label><div class=\"sk-toggleable__content\"><pre>LogisticRegression(random_state=0)</pre></div></div></div></div></div>"
      ],
      "text/plain": [
       "LogisticRegression(random_state=0)"
      ]
     },
     "execution_count": 18,
     "metadata": {},
     "output_type": "execute_result"
    }
   ],
   "source": [
    "model.fit(X_train, Y_train)"
   ]
  },
  {
   "cell_type": "code",
   "execution_count": 19,
   "id": "d66f836e",
   "metadata": {},
   "outputs": [
    {
     "data": {
      "text/plain": [
       "array(['reject', 'reject', 'accept', 'accept', 'reject', 'reject',\n",
       "       'accept', 'accept', 'reject', 'reject', 'accept', 'reject',\n",
       "       'reject', 'accept', 'accept', 'reject', 'accept', 'reject',\n",
       "       'reject', 'accept', 'accept', 'reject', 'accept', 'reject',\n",
       "       'accept', 'reject', 'reject', 'accept', 'accept', 'reject',\n",
       "       'reject', 'reject', 'accept', 'accept', 'reject', 'reject',\n",
       "       'reject', 'reject', 'reject', 'accept', 'reject', 'reject',\n",
       "       'reject', 'reject', 'reject', 'reject', 'accept', 'reject',\n",
       "       'reject', 'reject', 'reject', 'accept', 'accept', 'accept',\n",
       "       'reject', 'reject', 'reject', 'reject', 'accept', 'reject',\n",
       "       'reject', 'accept', 'accept', 'accept', 'reject', 'accept',\n",
       "       'reject', 'accept', 'reject', 'accept', 'accept', 'reject',\n",
       "       'reject', 'reject', 'reject', 'reject', 'reject', 'accept',\n",
       "       'accept', 'accept', 'reject', 'accept', 'reject', 'reject',\n",
       "       'reject', 'accept', 'accept', 'accept', 'reject', 'reject',\n",
       "       'reject', 'accept', 'reject', 'reject', 'reject', 'accept',\n",
       "       'reject', 'accept', 'accept', 'accept', 'accept', 'accept',\n",
       "       'reject', 'accept', 'accept', 'accept', 'reject', 'reject',\n",
       "       'reject', 'reject', 'accept', 'reject', 'reject', 'reject',\n",
       "       'reject', 'reject', 'reject', 'accept', 'reject', 'reject',\n",
       "       'accept', 'reject', 'reject', 'accept', 'reject', 'reject',\n",
       "       'reject', 'accept', 'reject', 'accept', 'reject', 'accept',\n",
       "       'reject', 'accept', 'accept', 'reject', 'accept', 'reject',\n",
       "       'reject', 'accept', 'accept', 'accept', 'accept', 'reject',\n",
       "       'reject', 'reject', 'reject', 'reject', 'accept', 'reject',\n",
       "       'accept', 'reject', 'accept', 'accept', 'accept', 'accept',\n",
       "       'reject', 'reject', 'reject', 'reject', 'reject', 'accept',\n",
       "       'accept', 'accept', 'reject', 'reject', 'accept', 'reject',\n",
       "       'reject', 'reject', 'reject', 'accept', 'accept', 'accept',\n",
       "       'accept', 'accept', 'accept', 'reject', 'reject', 'reject',\n",
       "       'accept', 'accept', 'accept', 'reject', 'accept', 'reject',\n",
       "       'reject', 'accept', 'reject', 'accept', 'reject', 'reject',\n",
       "       'reject', 'reject', 'accept', 'accept', 'reject', 'accept',\n",
       "       'reject', 'accept', 'reject', 'reject', 'accept', 'accept',\n",
       "       'accept', 'reject', 'reject', 'accept', 'accept', 'reject',\n",
       "       'reject', 'reject', 'reject', 'reject', 'accept', 'reject',\n",
       "       'reject', 'reject', 'accept', 'reject', 'accept', 'reject',\n",
       "       'reject', 'reject', 'accept', 'reject', 'accept', 'reject',\n",
       "       'accept', 'reject', 'accept', 'accept', 'accept', 'accept',\n",
       "       'accept', 'reject', 'accept', 'accept', 'reject', 'accept',\n",
       "       'reject', 'accept', 'reject', 'reject', 'reject', 'accept',\n",
       "       'accept', 'accept', 'reject', 'reject', 'accept', 'accept',\n",
       "       'accept', 'accept', 'accept', 'accept', 'accept', 'accept',\n",
       "       'accept', 'reject', 'accept', 'reject', 'reject', 'reject',\n",
       "       'reject', 'accept', 'reject', 'reject', 'reject', 'accept',\n",
       "       'reject', 'reject', 'reject', 'accept', 'reject', 'accept',\n",
       "       'reject', 'reject', 'reject', 'accept', 'reject', 'reject',\n",
       "       'accept', 'accept', 'reject', 'reject', 'accept', 'accept',\n",
       "       'reject', 'accept', 'accept', 'accept', 'accept', 'reject',\n",
       "       'reject', 'reject', 'accept', 'accept', 'reject', 'reject',\n",
       "       'reject', 'reject', 'reject', 'reject', 'reject', 'accept',\n",
       "       'accept', 'reject', 'reject', 'reject', 'reject', 'reject',\n",
       "       'accept', 'reject', 'reject', 'reject', 'reject', 'reject',\n",
       "       'accept', 'reject', 'accept', 'reject', 'reject', 'reject',\n",
       "       'accept', 'reject', 'reject', 'accept', 'reject', 'accept',\n",
       "       'reject', 'accept', 'reject', 'reject', 'accept', 'reject',\n",
       "       'reject', 'reject', 'accept', 'reject', 'reject', 'reject',\n",
       "       'reject', 'reject', 'accept', 'accept', 'reject', 'reject',\n",
       "       'reject', 'accept', 'reject', 'reject', 'accept', 'reject',\n",
       "       'accept', 'reject', 'accept', 'accept', 'reject', 'reject',\n",
       "       'accept', 'accept', 'accept', 'reject', 'reject', 'reject',\n",
       "       'accept', 'reject', 'reject', 'accept', 'reject', 'accept',\n",
       "       'reject', 'reject', 'reject', 'accept', 'accept', 'reject',\n",
       "       'reject', 'reject', 'accept', 'accept', 'accept', 'reject',\n",
       "       'reject', 'reject', 'reject', 'reject', 'reject', 'reject',\n",
       "       'reject', 'accept', 'accept', 'reject', 'accept', 'reject',\n",
       "       'reject', 'reject', 'reject', 'accept', 'reject', 'accept',\n",
       "       'reject', 'reject', 'accept', 'accept', 'reject', 'accept',\n",
       "       'accept', 'reject', 'reject', 'reject', 'accept', 'reject',\n",
       "       'reject', 'reject', 'reject', 'reject', 'reject', 'reject',\n",
       "       'reject', 'reject', 'accept', 'reject', 'reject', 'reject',\n",
       "       'accept', 'accept', 'reject'], dtype=object)"
      ]
     },
     "execution_count": 19,
     "metadata": {},
     "output_type": "execute_result"
    }
   ],
   "source": [
    "p_value = model.predict(onehotlabels)\n",
    "p_value"
   ]
  },
  {
   "cell_type": "code",
   "execution_count": 20,
   "id": "683a0a12",
   "metadata": {},
   "outputs": [
    {
     "data": {
      "text/html": [
       "<div>\n",
       "<style scoped>\n",
       "    .dataframe tbody tr th:only-of-type {\n",
       "        vertical-align: middle;\n",
       "    }\n",
       "\n",
       "    .dataframe tbody tr th {\n",
       "        vertical-align: top;\n",
       "    }\n",
       "\n",
       "    .dataframe thead th {\n",
       "        text-align: right;\n",
       "    }\n",
       "</style>\n",
       "<table border=\"1\" class=\"dataframe\">\n",
       "  <thead>\n",
       "    <tr style=\"text-align: right;\">\n",
       "      <th></th>\n",
       "      <th>Age</th>\n",
       "      <th>Time_at_address</th>\n",
       "      <th>Time_employed</th>\n",
       "      <th>Time_bank</th>\n",
       "      <th>Home_Expn</th>\n",
       "      <th>Balance</th>\n",
       "    </tr>\n",
       "  </thead>\n",
       "  <tbody>\n",
       "    <tr>\n",
       "      <th>Age</th>\n",
       "      <td>1.000000</td>\n",
       "      <td>0.217342</td>\n",
       "      <td>0.426890</td>\n",
       "      <td>0.208736</td>\n",
       "      <td>-0.072254</td>\n",
       "      <td>0.101819</td>\n",
       "    </tr>\n",
       "    <tr>\n",
       "      <th>Time_at_address</th>\n",
       "      <td>0.217342</td>\n",
       "      <td>1.000000</td>\n",
       "      <td>0.278849</td>\n",
       "      <td>0.202083</td>\n",
       "      <td>-0.267470</td>\n",
       "      <td>0.072235</td>\n",
       "    </tr>\n",
       "    <tr>\n",
       "      <th>Time_employed</th>\n",
       "      <td>0.426890</td>\n",
       "      <td>0.278849</td>\n",
       "      <td>1.000000</td>\n",
       "      <td>0.291542</td>\n",
       "      <td>-0.110933</td>\n",
       "      <td>0.112719</td>\n",
       "    </tr>\n",
       "    <tr>\n",
       "      <th>Time_bank</th>\n",
       "      <td>0.208736</td>\n",
       "      <td>0.202083</td>\n",
       "      <td>0.291542</td>\n",
       "      <td>1.000000</td>\n",
       "      <td>-0.111761</td>\n",
       "      <td>0.153435</td>\n",
       "    </tr>\n",
       "    <tr>\n",
       "      <th>Home_Expn</th>\n",
       "      <td>-0.072254</td>\n",
       "      <td>-0.267470</td>\n",
       "      <td>-0.110933</td>\n",
       "      <td>-0.111761</td>\n",
       "      <td>1.000000</td>\n",
       "      <td>0.080366</td>\n",
       "    </tr>\n",
       "    <tr>\n",
       "      <th>Balance</th>\n",
       "      <td>0.101819</td>\n",
       "      <td>0.072235</td>\n",
       "      <td>0.112719</td>\n",
       "      <td>0.153435</td>\n",
       "      <td>0.080366</td>\n",
       "      <td>1.000000</td>\n",
       "    </tr>\n",
       "  </tbody>\n",
       "</table>\n",
       "</div>"
      ],
      "text/plain": [
       "                      Age  Time_at_address  Time_employed  Time_bank  \\\n",
       "Age              1.000000         0.217342       0.426890   0.208736   \n",
       "Time_at_address  0.217342         1.000000       0.278849   0.202083   \n",
       "Time_employed    0.426890         0.278849       1.000000   0.291542   \n",
       "Time_bank        0.208736         0.202083       0.291542   1.000000   \n",
       "Home_Expn       -0.072254        -0.267470      -0.110933  -0.111761   \n",
       "Balance          0.101819         0.072235       0.112719   0.153435   \n",
       "\n",
       "                 Home_Expn   Balance  \n",
       "Age              -0.072254  0.101819  \n",
       "Time_at_address  -0.267470  0.072235  \n",
       "Time_employed    -0.110933  0.112719  \n",
       "Time_bank        -0.111761  0.153435  \n",
       "Home_Expn         1.000000  0.080366  \n",
       "Balance           0.080366  1.000000  "
      ]
     },
     "execution_count": 20,
     "metadata": {},
     "output_type": "execute_result"
    }
   ],
   "source": [
    "corr = df.corr()\n",
    "corr"
   ]
  },
  {
   "cell_type": "code",
   "execution_count": 21,
   "id": "46bdbae4",
   "metadata": {},
   "outputs": [
    {
     "data": {
      "text/plain": [
       "0.9067599067599068"
      ]
     },
     "execution_count": 21,
     "metadata": {},
     "output_type": "execute_result"
    }
   ],
   "source": [
    "r_sq = model.score(onehotlabels, y)\n",
    "r_sq"
   ]
  },
  {
   "cell_type": "code",
   "execution_count": 22,
   "id": "eb8c3821",
   "metadata": {},
   "outputs": [
    {
     "data": {
      "text/plain": [
       "[<matplotlib.lines.Line2D at 0x2016a226160>,\n",
       " <matplotlib.lines.Line2D at 0x2016a2262b0>,\n",
       " <matplotlib.lines.Line2D at 0x2016a23c0a0>,\n",
       " <matplotlib.lines.Line2D at 0x2016a23c1c0>,\n",
       " <matplotlib.lines.Line2D at 0x2016a23c2e0>,\n",
       " <matplotlib.lines.Line2D at 0x2016a23c400>]"
      ]
     },
     "execution_count": 22,
     "metadata": {},
     "output_type": "execute_result"
    },
    {
     "data": {
      "image/png": "[encoded data removed]",
      "text/plain": [
       "<Figure size 432x288 with 1 Axes>"
      ]
     },
     "metadata": {
      "needs_background": "light"
     },
     "output_type": "display_data"
    }
   ],
   "source": [
    "plt.plot(corr)\n"
   ]
  },
  {
   "cell_type": "code",
   "execution_count": 23,
   "id": "74e0d32c",
   "metadata": {},
   "outputs": [
    {
     "data": {
      "image/png": "[encoded data removed]",
      "text/plain": [
       "<Figure size 288x288 with 1 Axes>"
      ]
     },
     "metadata": {
      "needs_background": "light"
     },
     "output_type": "display_data"
    }
   ],
   "source": [
    "plt.matshow(corr)\n",
    "plt.show()"
   ]
  },
  {
   "cell_type": "code",
   "execution_count": 25,
   "id": "9207b9af",
   "metadata": {},
   "outputs": [
    {
     "data": {
      "text/plain": [
       "<AxesSubplot:>"
      ]
     },
     "execution_count": 25,
     "metadata": {},
     "output_type": "execute_result"
    },
    {
     "data": {
      "image/png": "[encoded data removed]",
      "text/plain": [
       "<Figure size 720x720 with 2 Axes>"
      ]
     },
     "metadata": {
      "needs_background": "light"
     },
     "output_type": "display_data"
    }
   ],
   "source": [
    "import seaborn as sns\n",
    "figure, axes = plt.subplots(figsize=(10,10))\n",
    "sns.heatmap(corr,annot=True,ax=axes)"
   ]
  },
  {
   "cell_type": "code",
   "execution_count": null,
   "id": "3c87a2ea",
   "metadata": {},
   "outputs": [],
   "source": []
  }
 ],
 "metadata": {
  "kernelspec": {
   "display_name": "Python 3 (ipykernel)",
   "language": "python",
   "name": "python3"
  },
  "language_info": {
   "codemirror_mode": {
    "name": "ipython",
    "version": 3
   },
   "file_extension": ".py",
   "mimetype": "text/x-python",
   "name": "python",
   "nbconvert_exporter": "python",
   "pygments_lexer": "ipython3",
   "version": "3.9.12"
  }
 },
 "nbformat": 4,
 "nbformat_minor": 5
}
